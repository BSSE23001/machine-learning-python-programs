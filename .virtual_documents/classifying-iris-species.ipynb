


# Importing the iris dataset from already accumulations of sklearn
from sklearn.datasets import load_iris
# Loading the Iris Dataset
iris_dataset = load_iris()


# Printing the keys means column names present in the dataset iris
print("Keys of Iris Dataset: \n{}".format(iris_dataset.keys()))


# Printing the complete iris dataset
print(iris_dataset)


# We can Also print small amount of description from the complete one using normal python syntax as
print(iris_dataset['DESCR'][:193] + "\n...")


# Printing the target names means the species of our concern
print("Target Names: {}".format(iris_dataset['target_names']))


# Printing the Features on which we will be operating upon
print("Feature Names: {}".format(iris_dataset['feature_names']))


# Now Printing the type of data on which we will be operating upon
print("Type of Data: {}".format(type(iris_dataset['data'])))


# Now Printing the shape means dimensions of the data
print("Shape of the data: {}".format(iris_dataset['data'].shape))


# The target column contains the species of each column that was measured for this dataset, and it is also incorporated as numpy array
print("Type of Target: {}".format(type(iris_dataset['target'])))
print("Shape of the targets: {}".format(iris_dataset['target'].shape))


# For target column an encoding from 0 to 2 is made which points to the respective target species like 0 -> setosa, 1 -> versicolor, 2 -> virginica
print("Target: {}".format(iris_dataset['target']))


from sklearn.model_selection import train_test_split





# Extracting data without stratifying with default composition 75% train and 25% test
# The convension Capital X refers to the Matrix
X_train, X_test, y_train, y_test = train_test_split(iris_dataset['data'], iris_dataset['target'], random_state=0)


print("X_train shape: {}".format(X_train.shape))
print("y_train shape: {}".format(y_train.shape))
print("X_test shape: {}".format(X_test.shape))
print("y_test shape: {}".format(y_test.shape))





import pandas as pd
import matplotlib.pyplot as plt
import numpy as np
import scipy as sp
import mglearn


iris_dataframe = pd.DataFrame(X_train, columns=iris_dataset.feature_names)
pd.plotting.scatter_matrix(iris_dataframe, c=y_train, figsize=(15,15),
                           marker='.', hist_kwds={'bins':20}, s=60,
                           alpha=.8, cmap=mglearn.cm3)



